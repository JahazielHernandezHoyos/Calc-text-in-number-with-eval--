{
 "cells": [
  {
   "cell_type": "code",
   "execution_count": 2,
   "metadata": {},
   "outputs": [
    {
     "name": "stdout",
     "output_type": "stream",
     "text": [
      "uno por dos mas siete entre  3\n",
      "1*2+7/3\n",
      "4.333333333333334\n"
     ]
    }
   ],
   "source": [
    "text = input(\"Ingrese una operacion en texto: \")\n",
    "print(text)\n",
    "\n",
    "def filtroTexto(text):\n",
    "    text = text.lower()\n",
    "    text = text.replace(\" \", \"\")\n",
    "    text = text.replace(\"uno\", \"1\")\n",
    "    text = text.replace(\"dos\", \"2\")\n",
    "    text = text.replace(\"tres\", \"3\")\n",
    "    text = text.replace(\"cuatro\", \"4\")\n",
    "    text = text.replace(\"cinco\", \"5\")\n",
    "    text = text.replace(\"seis\", \"6\")\n",
    "    text = text.replace(\"siete\", \"7\")\n",
    "    text = text.replace(\"ocho\", \"8\")\n",
    "    text = text.replace(\"nueve\", \"9\")\n",
    "    text = text.replace(\"cero\", \"0\")\n",
    "    text = text.replace(\"mas\", \"+\")\n",
    "    text = text.replace(\"menos\", \"-\")\n",
    "    text = text.replace(\"por\", \"*\")\n",
    "    text = text.replace(\"entre\", \"/\")\n",
    "    return text\n",
    "\n",
    "def calculo(textoFiltrado):\n",
    "    try:\n",
    "        print(textoFiltrado)\n",
    "        resultado = eval(textoFiltrado)\n",
    "        print(resultado)\n",
    "    except:\n",
    "        print(\"Ingrese una operacion o numero valido\")\n",
    "    return resultado\n",
    "\n",
    "textoFiltrado = filtroTexto(text)\n",
    "resultado = calculo(textoFiltrado)\n"
   ]
  }
 ],
 "metadata": {
  "kernelspec": {
   "display_name": "Python 3.10.4 64-bit",
   "language": "python",
   "name": "python3"
  },
  "language_info": {
   "codemirror_mode": {
    "name": "ipython",
    "version": 3
   },
   "file_extension": ".py",
   "mimetype": "text/x-python",
   "name": "python",
   "nbconvert_exporter": "python",
   "pygments_lexer": "ipython3",
   "version": "3.10.4"
  },
  "orig_nbformat": 4,
  "vscode": {
   "interpreter": {
    "hash": "31f2aee4e71d21fbe5cf8b01ff0e069b9275f58929596ceb00d14d90e3e16cd6"
   }
  }
 },
 "nbformat": 4,
 "nbformat_minor": 2
}
